{
 "cells": [
  {
   "cell_type": "markdown",
   "metadata": {},
   "source": [
    "# ASD Model"
   ]
  },
  {
   "cell_type": "code",
   "execution_count": 1,
   "metadata": {},
   "outputs": [],
   "source": [
    "from keras.layers import Input, Lambda, Dense, Flatten\n",
    "from keras.models import Model\n",
    "from keras.applications.vgg16 import VGG16\n",
    "from keras.applications.vgg16 import preprocess_input\n",
    "from keras.preprocessing import image\n",
    "from keras.preprocessing.image import ImageDataGenerator\n",
    "from keras.models import Sequential\n",
    "import numpy as np\n",
    "from glob import glob\n",
    "import matplotlib.pyplot as plt"
   ]
  },
  {
   "cell_type": "code",
   "execution_count": 2,
   "metadata": {},
   "outputs": [],
   "source": [
    "# re-size all the images to this\n",
    "IMAGE_SIZE = [224, 224]\n",
    "\n",
    "train_path = 'Train'\n",
    "valid_path = 'Test'\n",
    "\n",
    "# add preprocessing layer to the front of VGG\n",
    "vgg = VGG16(input_shape=IMAGE_SIZE + [3], weights='imagenet', include_top=False)\n",
    "\n",
    "# don't train existing weights\n",
    "for layer in vgg.layers:\n",
    "    layer.trainable = False"
   ]
  },
  {
   "cell_type": "code",
   "execution_count": 3,
   "metadata": {},
   "outputs": [
    {
     "name": "stdout",
     "output_type": "stream",
     "text": [
      "Model: \"model\"\n",
      "_________________________________________________________________\n",
      "Layer (type)                 Output Shape              Param #   \n",
      "=================================================================\n",
      "input_1 (InputLayer)         [(None, 224, 224, 3)]     0         \n",
      "_________________________________________________________________\n",
      "block1_conv1 (Conv2D)        (None, 224, 224, 64)      1792      \n",
      "_________________________________________________________________\n",
      "block1_conv2 (Conv2D)        (None, 224, 224, 64)      36928     \n",
      "_________________________________________________________________\n",
      "block1_pool (MaxPooling2D)   (None, 112, 112, 64)      0         \n",
      "_________________________________________________________________\n",
      "block2_conv1 (Conv2D)        (None, 112, 112, 128)     73856     \n",
      "_________________________________________________________________\n",
      "block2_conv2 (Conv2D)        (None, 112, 112, 128)     147584    \n",
      "_________________________________________________________________\n",
      "block2_pool (MaxPooling2D)   (None, 56, 56, 128)       0         \n",
      "_________________________________________________________________\n",
      "block3_conv1 (Conv2D)        (None, 56, 56, 256)       295168    \n",
      "_________________________________________________________________\n",
      "block3_conv2 (Conv2D)        (None, 56, 56, 256)       590080    \n",
      "_________________________________________________________________\n",
      "block3_conv3 (Conv2D)        (None, 56, 56, 256)       590080    \n",
      "_________________________________________________________________\n",
      "block3_pool (MaxPooling2D)   (None, 28, 28, 256)       0         \n",
      "_________________________________________________________________\n",
      "block4_conv1 (Conv2D)        (None, 28, 28, 512)       1180160   \n",
      "_________________________________________________________________\n",
      "block4_conv2 (Conv2D)        (None, 28, 28, 512)       2359808   \n",
      "_________________________________________________________________\n",
      "block4_conv3 (Conv2D)        (None, 28, 28, 512)       2359808   \n",
      "_________________________________________________________________\n",
      "block4_pool (MaxPooling2D)   (None, 14, 14, 512)       0         \n",
      "_________________________________________________________________\n",
      "block5_conv1 (Conv2D)        (None, 14, 14, 512)       2359808   \n",
      "_________________________________________________________________\n",
      "block5_conv2 (Conv2D)        (None, 14, 14, 512)       2359808   \n",
      "_________________________________________________________________\n",
      "block5_conv3 (Conv2D)        (None, 14, 14, 512)       2359808   \n",
      "_________________________________________________________________\n",
      "block5_pool (MaxPooling2D)   (None, 7, 7, 512)         0         \n",
      "_________________________________________________________________\n",
      "flatten (Flatten)            (None, 25088)             0         \n",
      "_________________________________________________________________\n",
      "dense (Dense)                (None, 2)                 50178     \n",
      "=================================================================\n",
      "Total params: 14,764,866\n",
      "Trainable params: 50,178\n",
      "Non-trainable params: 14,714,688\n",
      "_________________________________________________________________\n"
     ]
    }
   ],
   "source": [
    "# useful for getting number of classes\n",
    "folders = glob('Train/*')\n",
    "  \n",
    "\n",
    "# our layers - you can add more if you want\n",
    "x = Flatten()(vgg.output)\n",
    "# x = Dense(1000, activation='relu')(x)\n",
    "prediction = Dense(len(folders), activation='softmax')(x)\n",
    "\n",
    "# create a model object\n",
    "model = Model(inputs=vgg.input, outputs=prediction)\n",
    "\n",
    "# view the structure of the model\n",
    "model.summary()"
   ]
  },
  {
   "cell_type": "code",
   "execution_count": 4,
   "metadata": {},
   "outputs": [],
   "source": [
    "# tell the model what cost and optimization method to use\n",
    "model.compile(\n",
    "  loss='categorical_crossentropy',\n",
    "  optimizer='adam',\n",
    "  metrics=['accuracy']\n",
    ")"
   ]
  },
  {
   "cell_type": "code",
   "execution_count": 5,
   "metadata": {},
   "outputs": [
    {
     "name": "stdout",
     "output_type": "stream",
     "text": [
      "Found 2536 images belonging to 2 classes.\n",
      "Found 300 images belonging to 2 classes.\n"
     ]
    }
   ],
   "source": [
    "from keras.preprocessing.image import ImageDataGenerator\n",
    "\n",
    "train_datagen = ImageDataGenerator(rescale = 1./255,\n",
    "                                   shear_range = 0.2,\n",
    "                                   zoom_range = 0.2,\n",
    "                                   horizontal_flip = True)\n",
    "\n",
    "test_datagen = ImageDataGenerator(rescale = 1./255)\n",
    "\n",
    "training_set = train_datagen.flow_from_directory('Train',\n",
    "                                                 target_size = (224, 224),\n",
    "                                                 batch_size = 32,\n",
    "                                                 class_mode = 'categorical')\n",
    "\n",
    "test_set = test_datagen.flow_from_directory('Test',\n",
    "                                            target_size = (224, 224),\n",
    "                                            batch_size = 32,\n",
    "                                            class_mode = 'categorical')"
   ]
  },
  {
   "cell_type": "code",
   "execution_count": 6,
   "metadata": {},
   "outputs": [
    {
     "name": "stderr",
     "output_type": "stream",
     "text": [
      "C:\\Users\\sanja\\anaconda3\\lib\\site-packages\\tensorflow\\python\\keras\\engine\\training.py:1844: UserWarning: `Model.fit_generator` is deprecated and will be removed in a future version. Please use `Model.fit`, which supports generators.\n",
      "  warnings.warn('`Model.fit_generator` is deprecated and '\n"
     ]
    },
    {
     "name": "stdout",
     "output_type": "stream",
     "text": [
      "Epoch 1/20\n",
      "80/80 [==============================] - 725s 9s/step - loss: 0.7470 - accuracy: 0.6620 - val_loss: 0.3793 - val_accuracy: 0.8233\n",
      "Epoch 2/20\n",
      "80/80 [==============================] - 736s 9s/step - loss: 0.4508 - accuracy: 0.7943 - val_loss: 0.4043 - val_accuracy: 0.8267\n",
      "Epoch 3/20\n",
      "80/80 [==============================] - 773s 10s/step - loss: 0.4345 - accuracy: 0.7984 - val_loss: 0.4211 - val_accuracy: 0.8000\n",
      "Epoch 4/20\n",
      "80/80 [==============================] - 774s 10s/step - loss: 0.4060 - accuracy: 0.8247 - val_loss: 0.3830 - val_accuracy: 0.8367\n",
      "Epoch 5/20\n",
      "80/80 [==============================] - 830s 10s/step - loss: 0.3618 - accuracy: 0.8354 - val_loss: 0.5026 - val_accuracy: 0.8000\n",
      "Epoch 6/20\n",
      "80/80 [==============================] - 436s 5s/step - loss: 0.3316 - accuracy: 0.8537 - val_loss: 0.3523 - val_accuracy: 0.8467\n",
      "Epoch 7/20\n",
      "80/80 [==============================] - 384s 5s/step - loss: 0.2832 - accuracy: 0.8713 - val_loss: 0.3862 - val_accuracy: 0.8400\n",
      "Epoch 8/20\n",
      "80/80 [==============================] - 388s 5s/step - loss: 0.2559 - accuracy: 0.8935 - val_loss: 0.3630 - val_accuracy: 0.8500\n",
      "Epoch 9/20\n",
      "80/80 [==============================] - 384s 5s/step - loss: 0.2558 - accuracy: 0.8987 - val_loss: 0.4122 - val_accuracy: 0.8400\n",
      "Epoch 10/20\n",
      "80/80 [==============================] - 386s 5s/step - loss: 0.2317 - accuracy: 0.8937 - val_loss: 0.3405 - val_accuracy: 0.8667\n",
      "Epoch 11/20\n",
      "80/80 [==============================] - 335s 4s/step - loss: 0.2209 - accuracy: 0.9062 - val_loss: 0.3331 - val_accuracy: 0.8733\n",
      "Epoch 12/20\n",
      "80/80 [==============================] - 349s 4s/step - loss: 0.2361 - accuracy: 0.8987 - val_loss: 0.4997 - val_accuracy: 0.7833\n",
      "Epoch 13/20\n",
      "80/80 [==============================] - 344s 4s/step - loss: 0.2364 - accuracy: 0.8995 - val_loss: 0.3931 - val_accuracy: 0.8533\n",
      "Epoch 14/20\n",
      "80/80 [==============================] - 332s 4s/step - loss: 0.2570 - accuracy: 0.8887 - val_loss: 0.4564 - val_accuracy: 0.8433\n",
      "Epoch 15/20\n",
      "80/80 [==============================] - 330s 4s/step - loss: 0.2288 - accuracy: 0.9007 - val_loss: 0.4211 - val_accuracy: 0.8267\n",
      "Epoch 16/20\n",
      "80/80 [==============================] - 329s 4s/step - loss: 0.2042 - accuracy: 0.9185 - val_loss: 0.3827 - val_accuracy: 0.8633\n",
      "Epoch 17/20\n",
      "80/80 [==============================] - 332s 4s/step - loss: 0.2148 - accuracy: 0.9112 - val_loss: 0.3473 - val_accuracy: 0.8733\n",
      "Epoch 18/20\n",
      "80/80 [==============================] - 333s 4s/step - loss: 0.1753 - accuracy: 0.9328 - val_loss: 0.3527 - val_accuracy: 0.8733\n",
      "Epoch 19/20\n",
      "80/80 [==============================] - 332s 4s/step - loss: 0.1819 - accuracy: 0.9274 - val_loss: 0.3353 - val_accuracy: 0.8800\n",
      "Epoch 20/20\n",
      "80/80 [==============================] - 331s 4s/step - loss: 0.1645 - accuracy: 0.9325 - val_loss: 0.3520 - val_accuracy: 0.8800\n"
     ]
    }
   ],
   "source": [
    "# fit the model\n",
    "r = model.fit_generator(\n",
    "  training_set,\n",
    "  validation_data=test_set,\n",
    "  epochs=20,\n",
    "  steps_per_epoch=len(training_set),\n",
    "  validation_steps=len(test_set)\n",
    ")"
   ]
  },
  {
   "cell_type": "code",
   "execution_count": 7,
   "metadata": {},
   "outputs": [
    {
     "data": {
      "image/png": "[encoded data removed]",
      "text/plain": [
       "<Figure size 432x288 with 1 Axes>"
      ]
     },
     "metadata": {
      "needs_background": "light"
     },
     "output_type": "display_data"
    },
    {
     "data": {
      "image/png": "[encoded data removed]",
      "text/plain": [
       "<Figure size 432x288 with 1 Axes>"
      ]
     },
     "metadata": {
      "needs_background": "light"
     },
     "output_type": "display_data"
    },
    {
     "data": {
      "text/plain": [
       "<Figure size 432x288 with 0 Axes>"
      ]
     },
     "metadata": {},
     "output_type": "display_data"
    }
   ],
   "source": [
    "# accuracies\n",
    "plt.plot(r.history['accuracy'], label='train accuracy')\n",
    "plt.plot(r.history['val_accuracy'], label='val accuracy')\n",
    "plt.legend()\n",
    "plt.show()\n",
    "plt.savefig('AccVal_acc')\n",
    "\n",
    "# loss\n",
    "plt.plot(r.history['loss'], label='train loss')\n",
    "plt.plot(r.history['val_loss'], label='val loss')\n",
    "plt.legend()\n",
    "plt.show()\n",
    "plt.savefig('LossVal_loss')"
   ]
  },
  {
   "cell_type": "code",
   "execution_count": 8,
   "metadata": {},
   "outputs": [],
   "source": [
    "import tensorflow as tf\n",
    "from keras.models import load_model"
   ]
  },
  {
   "cell_type": "code",
   "execution_count": 9,
   "metadata": {},
   "outputs": [
    {
     "name": "stdout",
     "output_type": "stream",
     "text": [
      "INFO:tensorflow:Assets written to: asdfinal.model\\assets\n"
     ]
    }
   ],
   "source": [
    "model.save('asdfinal.model')"
   ]
  }
 ],
 "metadata": {
  "kernelspec": {
   "display_name": "Python 3 (ipykernel)",
   "language": "python",
   "name": "python3"
  },
  "language_info": {
   "codemirror_mode": {
    "name": "ipython",
    "version": 3
   },
   "file_extension": ".py",
   "mimetype": "text/x-python",
   "name": "python",
   "nbconvert_exporter": "python",
   "pygments_lexer": "ipython3",
   "version": "3.11.2"
  }
 },
 "nbformat": 4,
 "nbformat_minor": 4
}
